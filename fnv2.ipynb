{
  "cells": [
    {
      "cell_type": "markdown",
      "metadata": {
        "id": "2BXm9iUY4ONV"
      },
      "source": [
        "Normalised Variation Statistical Correlations"
      ]
    },
    {
      "cell_type": "code",
      "execution_count": 1,
      "metadata": {
        "id": "NFumnFN_Tqrc"
      },
      "outputs": [],
      "source": [
        "import numpy as np\n",
        "import pandas as pd\n",
        "from matplotlib import pyplot as plt\n",
        "import yfinance as yf"
      ]
    },
    {
      "cell_type": "markdown",
      "source": [
        "Since 2024"
      ],
      "metadata": {
        "id": "M2c91AT6n7hi"
      }
    },
    {
      "cell_type": "code",
      "execution_count": 3,
      "metadata": {
        "id": "eF3N2G4MlTgu"
      },
      "outputs": [],
      "source": [
        "COEF = 0.977 # calculated in fnv1.ipynb"
      ]
    },
    {
      "cell_type": "code",
      "execution_count": 4,
      "metadata": {
        "id": "_ir12FfgGVU4",
        "colab": {
          "base_uri": "https://localhost:8080/"
        },
        "outputId": "ed6c7a6b-f238-4585-f0a7-bd726adc731e"
      },
      "outputs": [
        {
          "output_type": "stream",
          "name": "stdout",
          "text": [
            "YF.download() has changed argument auto_adjust default to True\n"
          ]
        },
        {
          "output_type": "stream",
          "name": "stderr",
          "text": [
            "[*********************100%***********************]  4 of 4 completed\n",
            "[*********************100%***********************]  1 of 1 completed\n"
          ]
        },
        {
          "output_type": "stream",
          "name": "stdout",
          "text": [
            "Mean: 0.0289\n",
            "Standard deviation: 0.4824\n"
          ]
        }
      ],
      "source": [
        "start = \"2024-01-01\"\n",
        "end = None\n",
        "\n",
        "symbols = [\n",
        "    \"BA\",\n",
        "    \"INTC\",\n",
        "    \"LPLA\",\n",
        "    \"MU\"\n",
        "]\n",
        "\n",
        "S_N = yf.download(symbols, start=start, end=end)[\"Close\"]\n",
        "\n",
        "idx = \"^GSPC\"\n",
        "IDX = yf.download(idx, start=start, end=end)[\"Close\"]\n",
        "IDX_N = IDX / IDX.iloc[0]\n",
        "\n",
        "spread_months = np.linspace(5, 10, 101)\n",
        "spread_days = spread_months * 250 / 12\n",
        "spread_days = spread_days.astype(int)\n",
        "\n",
        "window = 40\n",
        "\n",
        "coefs = []\n",
        "dates = []\n",
        "\n",
        "for i in range(IDX_N.shape[0] - spread_days[-1] - window):\n",
        "  x = (S_N.iloc[i: i + window] / S_N.iloc[i]).mean(axis=1)\n",
        "  for spread in spread_days:\n",
        "    y = IDX_N[\"^GSPC\"].iloc[i + spread: i + spread + window] / IDX_N[\"^GSPC\"].iloc[i + spread]\n",
        "    coef = np.cov(x, y) / (np.std(x) * np.std(y))\n",
        "    coef = float(coef[1][0])\n",
        "    coefs.append(coef)\n",
        "\n",
        "coefs = np.array(coefs)\n",
        "\n",
        "mean_, std_ = float(np.mean(coefs)), float(np.std(coefs))\n",
        "\n",
        "print(f\"Mean: {mean_:.4f}\\nStandard deviation: {std_:.4f}\")"
      ]
    },
    {
      "cell_type": "code",
      "source": [
        "plt.figure(figsize=(11, 5))\n",
        "bins = np.linspace(-1, 1, 21)\n",
        "x, y, z = plt.hist(coefs, bins=bins)\n",
        "plt.title(\"Correlation Distribution\", fontsize=12)\n",
        "plt.ylabel(\"$N$\", fontsize=12)\n",
        "plt.xlabel(\"$\\\\rho$\", fontsize=12)\n",
        "plt.xticks(bins)\n",
        "plt.grid()\n",
        "plt.axvline(COEF, color=\"k\")\n",
        "plt.show()"
      ],
      "metadata": {
        "id": "fzLgfDHZdVSJ",
        "colab": {
          "base_uri": "https://localhost:8080/",
          "height": 491
        },
        "outputId": "10d92fb2-9c7d-4f9d-fcfa-9d8b08241894"
      },
      "execution_count": 5,
      "outputs": [
        {
          "output_type": "display_data",
          "data": {
            "text/plain": [
              "<Figure size 1100x500 with 1 Axes>"
            ],
            "image/png": "[encoded data removed]"
          },
          "metadata": {}
        }
      ]
    },
    {
      "cell_type": "code",
      "source": [
        "print(f\"Relative frequency: {100 * x[-1] / len(coefs):.2f}%\")"
      ],
      "metadata": {
        "id": "D8_EdBnTdr-l",
        "colab": {
          "base_uri": "https://localhost:8080/"
        },
        "outputId": "0501389f-f814-44f9-89f5-5f79ddcb8a0d"
      },
      "execution_count": 6,
      "outputs": [
        {
          "output_type": "stream",
          "name": "stdout",
          "text": [
            "Relative frequency: 0.41%\n"
          ]
        }
      ]
    },
    {
      "cell_type": "markdown",
      "source": [
        "Since 2011 - Roughly Total LPLA History - Reproduced for Readability"
      ],
      "metadata": {
        "id": "NcZelFnCoe2I"
      }
    },
    {
      "cell_type": "code",
      "execution_count": 7,
      "metadata": {
        "colab": {
          "base_uri": "https://localhost:8080/"
        },
        "id": "QCnsfN5goe2K",
        "outputId": "f11c80c4-502a-4097-c3c5-8001de6cbb76"
      },
      "outputs": [
        {
          "output_type": "stream",
          "name": "stderr",
          "text": [
            "[*********************100%***********************]  4 of 4 completed\n",
            "[*********************100%***********************]  1 of 1 completed\n"
          ]
        },
        {
          "output_type": "stream",
          "name": "stdout",
          "text": [
            "Mean: 0.108\n",
            "Standard deviation: 0.519\n"
          ]
        }
      ],
      "source": [
        "start = \"2011-01-01\"\n",
        "end = None\n",
        "\n",
        "symbols = [\n",
        "    \"BA\",\n",
        "    \"INTC\",\n",
        "    \"LPLA\",\n",
        "    \"MU\"\n",
        "]\n",
        "\n",
        "S_N = yf.download(symbols, start=start, end=end)[\"Close\"]\n",
        "\n",
        "idx = \"^GSPC\"\n",
        "IDX = yf.download(idx, start=start, end=end)[\"Close\"]\n",
        "IDX_N = IDX / IDX.iloc[0]\n",
        "\n",
        "spread_months = np.linspace(5, 10, 101)\n",
        "spread_days = spread_months * 250 / 12\n",
        "spread_days = spread_days.astype(int)\n",
        "\n",
        "window = 40\n",
        "\n",
        "coefs = []\n",
        "dates = []\n",
        "\n",
        "for i in range(IDX_N.shape[0] - spread_days[-1] - window):\n",
        "  x = (S_N.iloc[i: i + window] / S_N.iloc[i]).mean(axis=1)\n",
        "  for spread in spread_days:\n",
        "    y = IDX_N[\"^GSPC\"].iloc[i + spread: i + spread + window] / IDX_N[\"^GSPC\"].iloc[i + spread]\n",
        "    coef = np.cov(x, y) / (np.std(x) * np.std(y))\n",
        "    coef = float(coef[1][0])\n",
        "    coefs.append(coef)\n",
        "\n",
        "coefs = np.array(coefs)\n",
        "\n",
        "mean_, std_ = float(np.mean(coefs)), float(np.std(coefs))\n",
        "\n",
        "print(f\"Mean: {mean_:.3f}\\nStandard deviation: {std_:.3f}\")"
      ]
    },
    {
      "cell_type": "code",
      "source": [
        "plt.figure(figsize=(11, 5))\n",
        "bins = np.linspace(-1, 1, 21)\n",
        "x, y, z = plt.hist(coefs, bins=bins)\n",
        "plt.title(\"Correlation Distribution\", fontsize=12)\n",
        "plt.ylabel(\"$N$\", fontsize=12)\n",
        "plt.xlabel(\"$\\\\rho$\", fontsize=12)\n",
        "plt.xticks(bins)\n",
        "plt.grid()\n",
        "plt.axvline(COEF, color=\"k\")\n",
        "plt.show()"
      ],
      "metadata": {
        "colab": {
          "base_uri": "https://localhost:8080/",
          "height": 491
        },
        "id": "f-nLoT4Moe2L",
        "outputId": "2688bdae-f990-4dd9-8b35-cc81ad0d7e78"
      },
      "execution_count": 8,
      "outputs": [
        {
          "output_type": "display_data",
          "data": {
            "text/plain": [
              "<Figure size 1100x500 with 1 Axes>"
            ],
            "image/png": "[encoded data removed]"
          },
          "metadata": {}
        }
      ]
    },
    {
      "cell_type": "code",
      "source": [
        "print(f\"Relative frequency: {100 * x[-1] / len(coefs):.2f}%\")"
      ],
      "metadata": {
        "colab": {
          "base_uri": "https://localhost:8080/"
        },
        "id": "E6MHnZMdoe2L",
        "outputId": "490e92be-a343-4da7-c57d-c9db118a9c48"
      },
      "execution_count": 9,
      "outputs": [
        {
          "output_type": "stream",
          "name": "stdout",
          "text": [
            "Relative frequency: 1.98%\n"
          ]
        }
      ]
    },
    {
      "cell_type": "code",
      "source": [],
      "metadata": {
        "id": "eXvM6z3aoe2M"
      },
      "execution_count": 9,
      "outputs": []
    }
  ],
  "metadata": {
    "colab": {
      "provenance": []
    },
    "kernelspec": {
      "display_name": "Python 3 (ipykernel)",
      "language": "python",
      "name": "python3"
    },
    "language_info": {
      "codemirror_mode": {
        "name": "ipython",
        "version": 3
      },
      "file_extension": ".py",
      "mimetype": "text/x-python",
      "name": "python",
      "nbconvert_exporter": "python",
      "pygments_lexer": "ipython3",
      "version": "3.13.3"
    }
  },
  "nbformat": 4,
  "nbformat_minor": 0
}
